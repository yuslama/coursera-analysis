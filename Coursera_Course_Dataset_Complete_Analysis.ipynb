{
 "cells": [
  {
   "cell_type": "markdown",
   "id": "553d111c",
   "metadata": {},
   "source": [
    "# Coursera Course Offerings Insights\n",
    "\n",
    "This notebook provides a detailed analysis of the Coursera course dataset. It includes steps for data cleaning, exploratory data analysis (EDA), and further analysis to uncover insights about the courses offered on Coursera.\n",
    "\n",
    "## Objectives\n",
    "- Understand the dataset structure and content.\n",
    "- Clean the dataset to prepare for analysis.\n",
    "- Perform EDA to identify trends and patterns.\n",
    "- Conduct further analysis on course ratings, number of reviews, and course duration.\n",
    "- Draw meaningful conclusions from the analysis.\n",
    "\n",
    "## Dataset Overview\n",
    "Dataset Name: Video Game Console Generations Dataset on data.world\n",
    "The dataset contains information about various courses offered on Coursera, including course titles, ratings, levels, schedules, learning outcomes, skills gained, and more.\n",
    "\n",
    "## Tools Used\n",
    "- Python: For data manipulation and analysis.\n",
    "- Pandas: For data processing.\n",
    "- Matplotlib and Seaborn: For creating visualizations.\n"
   ]
  },
  {
   "cell_type": "code",
   "execution_count": null,
   "outputs": [],
   "source": [
    "import pandas as pd\n",
    "\n",
    "# Load the dataset\n",
    "file_path = 'CourseraDataset-Clean.csv'\n",
    "data = pd.read_csv(file_path)\n",
    "data.head()"
   ],
   "metadata": {
    "collapsed": false
   },
   "id": "ca8311d552b10c4c"
  },
  {
   "cell_type": "markdown",
   "source": [
    "## Data Preprocessing\n",
    "### Cleaning\n",
    "The dataset was checked for missing values and duplicates, revealing missing values in the Modules and Instructor columns, which were noted but not imputed due to their specific nature. No duplicate rows were found."
   ],
   "metadata": {
    "collapsed": false
   },
   "id": "2f5da384420af979"
  },
  {
   "cell_type": "code",
   "execution_count": null,
   "outputs": [],
   "source": [
    "# Check for missing values\n",
    "missing_values = data.isnull().sum()\n",
    "\n",
    "# Check for duplicate rows\n",
    "duplicate_rows = data.duplicated().sum()\n",
    "\n",
    "# Data type check\n",
    "data_types = data.dtypes\n",
    "\n",
    "missing_values, duplicate_rows, data_types"
   ],
   "metadata": {
    "collapsed": false
   },
   "id": "18b0a6221526be67"
  },
  {
   "cell_type": "markdown",
   "source": [
    "### Transformation\n",
    "Data types were appropriate and required no adjustments."
   ],
   "metadata": {
    "collapsed": false
   },
   "id": "b698f9729c912865"
  },
  {
   "cell_type": "markdown",
   "source": [
    "## Exploratory Data Analysis (EDA)\n",
    "Let's perform some EDA to get a better understanding of the dataset. We'll look at the distribution of course ratings, the number of courses per level, and the distribution of courses across different keywords (categories)."
   ],
   "metadata": {
    "collapsed": false
   },
   "id": "43ced0efa9d9443f"
  },
  {
   "cell_type": "code",
   "execution_count": null,
   "outputs": [],
   "source": [
    "import matplotlib.pyplot as plt\n",
    "import seaborn as sns\n",
    "\n",
    "# Set the aesthetics for the plots\n",
    "sns.set(style=\"whitegrid\")\n",
    "\n",
    "# 1. Distribution of course ratings\n",
    "plt.figure(figsize=(10, 6))\n",
    "sns.histplot(data['Rating'], bins=20, kde=True)\n",
    "plt.title('Distribution of Course Ratings')\n",
    "plt.xlabel('Rating')\n",
    "plt.ylabel('Frequency')\n",
    "plt.show()"
   ],
   "metadata": {
    "collapsed": false
   },
   "id": "8fb4fa5cb1243fd2"
  },
  {
   "cell_type": "markdown",
   "source": [
    "The histogram shows a left-skewed distribution, indicating that most courses have high ratings, with a peak around the 4.5 to 5.0 range. This suggests that the majority of courses are well-received by learners."
   ],
   "metadata": {
    "collapsed": false
   },
   "id": "606088d4f56bd9ee"
  },
  {
   "cell_type": "code",
   "execution_count": null,
   "outputs": [],
   "source": [
    "# 2. Count of courses by level\n",
    "sns.set(style=\"whitegrid\")\n",
    "sns.set_palette(\"pastel\")\n",
    "\n",
    "plt.figure(figsize=(10, 6))\n",
    "sns.countplot(data=data, x='Level')\n",
    "plt.title('Count of Courses by Level')\n",
    "plt.xlabel('Level')\n",
    "plt.ylabel('Number of Courses')\n",
    "plt.xticks(rotation=45)\n",
    "plt.show()"
   ],
   "metadata": {
    "collapsed": false
   },
   "id": "f359c33204596c21"
  },
  {
   "cell_type": "markdown",
   "source": [
    "The majority of courses are targeted at the \"Beginner level,\" followed by \"Mixed level,\" \"Intermediate level,\" and a few \"Advanced level\" courses. This distribution suggests that Coursera focuses on providing accessible education to a wide audience, with an emphasis on entry-level courses."
   ],
   "metadata": {
    "collapsed": false
   },
   "id": "7b110d952f169847"
  },
  {
   "cell_type": "code",
   "execution_count": null,
   "outputs": [],
   "source": [
    "# 3. Distribution of courses across different keywords (categories)\n",
    "sns.set(style=\"whitegrid\")\n",
    "sns.set_palette(\"pastel\")\n",
    "\n",
    "plt.figure(figsize=(12, 8))\n",
    "sns.countplot(data=data, y='Keyword', order = data['Keyword'].value_counts().index)\n",
    "plt.title('Distribution of Courses Across Different Keywords')\n",
    "plt.xlabel('Number of Courses')\n",
    "plt.ylabel('Keyword')\n",
    "plt.show()"
   ],
   "metadata": {
    "collapsed": false
   },
   "id": "33fdcf529cbc4da9"
  },
  {
   "cell_type": "markdown",
   "source": [
    "The courses are spread across various categories, with some keywords having significantly more courses than others. This indicates the diversity of subjects available on Coursera, catering to a wide range of interests and educational needs."
   ],
   "metadata": {
    "collapsed": false
   },
   "id": "5a54c1034fc6d0cf"
  },
  {
   "cell_type": "markdown",
   "source": [
    "## Further Analysis"
   ],
   "metadata": {
    "collapsed": false
   },
   "id": "7bcd05d2aa579346"
  },
  {
   "cell_type": "markdown",
   "source": [
    "### Relationship between course ratings and the number of reviews:\n",
    "To understand if more popular courses (as indicated by the number of reviews) tend to have higher or lower ratings."
   ],
   "metadata": {
    "collapsed": false
   },
   "id": "b9c567fb5b2aa85e"
  },
  {
   "cell_type": "code",
   "execution_count": null,
   "outputs": [],
   "source": [
    "# Relationship between course ratings and the number of reviews\n",
    "plt.figure(figsize=(10, 6))\n",
    "sns.scatterplot(data=data, x='Rating', y='Number of Review', alpha=0.5)\n",
    "plt.title('Relationship Between Course Ratings and Number of Reviews')\n",
    "plt.xlabel('Rating')\n",
    "plt.ylabel('Number of Reviews')\n",
    "plt.show()\n",
    "\n",
    "# Calculating Pearson's correlation coefficient between ratings and number of reviews\n",
    "rating_review_corr = data['Rating'].corr(data['Number of Review'])\n",
    "\n",
    "rating_review_corr"
   ],
   "metadata": {
    "collapsed": false
   },
   "id": "6040f65230ba9c25"
  },
  {
   "cell_type": "markdown",
   "source": [
    "The scatter plot does not indicate a strong relationship between course ratings and the number of reviews, suggesting that course popularity (as indicated by reviews) does not necessarily correlate with higher ratings. The Pearson's correlation coefficient supports this with a value of approximately 0.091, indicating a very weak positive correlation."
   ],
   "metadata": {
    "collapsed": false
   },
   "id": "e2138d3cf6522ea1"
  },
  {
   "cell_type": "markdown",
   "source": [
    "### Analysis of \"Skill gain\":\n",
    "To identify the most common skills that courses aim to impart, which can give us insights into the current trends in skills development."
   ],
   "metadata": {
    "collapsed": false
   },
   "id": "d0cffcd0c2ae5f1e"
  },
  {
   "cell_type": "code",
   "execution_count": null,
   "outputs": [],
   "source": [
    "# Analysis of \"Skill gain\"\n",
    "# Preprocessing the 'Skill gain' column to count occurrences of each skill\n",
    "from collections import Counter\n",
    "\n",
    "skills_series = data['Skill gain'].str.split(', ')\n",
    "all_skills = [skill for sublist in skills_series.dropna() for skill in sublist]\n",
    "skill_counts = Counter(all_skills)\n",
    "\n",
    "# Identifying the most common skills\n",
    "most_common_skills = skill_counts.most_common(10)\n",
    "\n",
    "most_common_skills"
   ],
   "metadata": {
    "collapsed": false
   },
   "id": "481c3dc7cef9d8a"
  },
  {
   "cell_type": "markdown",
   "source": [
    "The most frequently mentioned skills in courses, excluding the 'Not specified' entries, include \"Data Analysis,\" \"Python Programming,\" \"Machine Learning,\" \"Communication,\" \"Data Visualization,\" \"Data Science,\" \"Leadership,\" \"Cloud Computing,\" and \"SQL.\" This reflects a strong emphasis on technical skills, particularly in data science and programming, as well as soft skills like communication and leadership."
   ],
   "metadata": {
    "collapsed": false
   },
   "id": "57b8a68458762991"
  },
  {
   "cell_type": "markdown",
   "source": [
    "### Correlation between course length and ratings or number of reviews:\n",
    "To see if there's a trend indicating that shorter or longer courses tend to be rated higher or have more reviews."
   ],
   "metadata": {
    "collapsed": false
   },
   "id": "188805a603a296ef"
  },
  {
   "cell_type": "code",
   "execution_count": null,
   "outputs": [],
   "source": [
    "# 3. Correlation between course length and ratings/number of reviews\n",
    "# Scatter plot for course length vs ratings\n",
    "plt.figure(figsize=(10, 6))\n",
    "sns.scatterplot(data=data, x='Duration to complete (Approx.)', y='Rating', alpha=0.5)\n",
    "plt.title('Course Length vs Ratings')\n",
    "plt.xlabel('Duration to Complete (Approx. hours)')\n",
    "plt.ylabel('Rating')\n",
    "plt.show()\n",
    "\n",
    "# Scatter plot for course length vs number of reviews\n",
    "plt.figure(figsize=(10, 6))\n",
    "sns.scatterplot(data=data, x='Duration to complete (Approx.)', y='Number of Review', alpha=0.5)\n",
    "plt.title('Course Length vs Number of Reviews')\n",
    "plt.xlabel('Duration to Complete (Approx. hours)')\n",
    "plt.ylabel('Number of Reviews')\n",
    "plt.show()\n",
    "\n",
    "# Calculating Pearson's correlation coefficients\n",
    "length_rating_corr = data['Duration to complete (Approx.)'].corr(data['Rating'])\n",
    "length_reviews_corr = data['Duration to complete (Approx.)'].corr(data['Number of Review'])\n",
    "\n",
    "length_rating_corr, length_reviews_corr"
   ],
   "metadata": {
    "collapsed": false
   },
   "id": "6f858cec8ec7f01c"
  },
  {
   "cell_type": "markdown",
   "source": [
    "The scatter plots for course length versus ratings and number of reviews show a spread that doesn't indicate a strong relationship. However, Pearson's correlation coefficients are slightly positive (0.138 for course length vs. ratings and 0.175 for course length vs. number of reviews), suggesting a weak positive correlation. This might indicate that slightly longer courses have marginally higher ratings and a bit more reviews, but the correlation is not strong enough to draw definitive conclusions."
   ],
   "metadata": {
    "collapsed": false
   },
   "id": "84f58a13f6a8d218"
  },
  {
   "cell_type": "markdown",
   "source": [
    "### Course Level and Learner Engagement:\n",
    " To see if a particular level attracts more learner engagement."
   ],
   "metadata": {
    "collapsed": false
   },
   "id": "7c9bc384a28c87f"
  },
  {
   "cell_type": "code",
   "execution_count": null,
   "outputs": [],
   "source": [
    "# Course Level and Learner Engagement\n",
    "# Grouping the data by Level and calculating the average number of reviews\n",
    "level_engagement = data.groupby('Level')['Number of Review'].mean().sort_values(ascending=False)\n",
    "\n",
    "level_engagement"
   ],
   "metadata": {
    "collapsed": false
   },
   "id": "226bbd7cf8aa6732"
  },
  {
   "cell_type": "markdown",
   "source": [
    "Beginner level courses have the highest engagement in terms of reviews, which could reflect broader accessibility or appeal of these courses to a wider audience, followed by courses whose levels are not specified, and then Intermediate level courses. Advanced level courses have the lowest average number of reviews, which might indicate a smaller audience or a higher barrier to entry for these courses."
   ],
   "metadata": {
    "collapsed": false
   },
   "id": "31ffad0b7c1d0960"
  },
  {
   "cell_type": "markdown",
   "source": [
    "## Conclusions\n",
    "\n",
    "This analysis of the Coursera course dataset provided insights into course ratings, levels, and the variety of skills targeted. We observed that most courses are highly rated and cater primarily to beginner levels, emphasizing the accessibility of education on Coursera. Further analysis revealed weak correlations between course ratings, number of reviews, and course duration, suggesting that course quality is not solely dependent on popularity or length.\n",
    "\n",
    "These findings can inform both learners and educators about prevailing trends in online education and help guide future course development and selection.\n"
   ],
   "metadata": {
    "collapsed": false
   },
   "id": "d7e55b8e34b2e7d"
  },
  {
   "cell_type": "code",
   "execution_count": null,
   "outputs": [],
   "source": [],
   "metadata": {
    "collapsed": false
   },
   "id": "9d6bb6b11dbb4ded"
  }
 ],
 "metadata": {
  "kernelspec": {
   "name": "python3",
   "language": "python",
   "display_name": "Python 3 (ipykernel)"
  }
 },
 "nbformat": 4,
 "nbformat_minor": 5
}
