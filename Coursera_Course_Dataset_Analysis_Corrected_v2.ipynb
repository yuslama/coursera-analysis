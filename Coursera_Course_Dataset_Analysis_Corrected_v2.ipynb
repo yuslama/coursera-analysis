{
 "cells": [
  {
   "cell_type": "markdown",
   "id": "b7290c70",
   "metadata": {},
   "source": [
    "\n",
    "# Coursera Course Dataset Analysis\n",
    "\n",
    "## Introduction\n",
    "This notebook presents a comprehensive analysis of a dataset containing information about Coursera courses. The analysis covers various aspects, including data cleaning, exploratory data analysis (EDA), and deeper insights into course ratings, levels, instructor influence, text analysis on course descriptions, and detailed skill analysis.\n"
   ]
  },
  {
   "cell_type": "code",
   "execution_count": null,
   "id": "52d6b96a",
   "metadata": {},
   "outputs": [],
   "source": [
    "\n",
    "import pandas as pd\n",
    "import matplotlib.pyplot as plt\n",
    "import seaborn as sns\n",
    "from sklearn.feature_extraction.text import CountVectorizer\n",
    "from collections import Counter\n"
   ]
  },
  {
   "cell_type": "markdown",
   "id": "7c0956c1",
   "metadata": {},
   "source": [
    "\n",
    "## Data Loading\n",
    "Load the dataset to understand its structure and preliminary details.\n"
   ]
  },
  {
   "cell_type": "code",
   "execution_count": null,
   "id": "b8dbc356",
   "metadata": {},
   "outputs": [],
   "source": [
    "\n",
    "data = pd.read_csv('/mnt/data/CourseraDataset-Clean.csv')\n",
    "data.head()\n"
   ]
  },
  {
   "cell_type": "markdown",
   "id": "2fbfd522",
   "metadata": {},
   "source": [
    "\n",
    "## Data Cleaning\n",
    "Identify and handle missing values, duplicates, and any data type discrepancies.\n"
   ]
  },
  {
   "cell_type": "code",
   "execution_count": null,
   "id": "32a96220",
   "metadata": {},
   "outputs": [],
   "source": [
    "\n",
    "# Check for missing values and duplicates\n",
    "missing_values = data.isnull().sum()\n",
    "duplicate_rows = data.duplicated().sum()\n",
    "\n",
    "missing_values, duplicate_rows\n"
   ]
  },
  {
   "cell_type": "markdown",
   "id": "e4863436",
   "metadata": {},
   "source": [
    "\n",
    "## Exploratory Data Analysis (EDA)\n",
    "Perform an initial exploration to understand the distribution of courses based on ratings, levels, and other features.\n"
   ]
  },
  {
   "cell_type": "code",
   "execution_count": null,
   "id": "0b23ab3b",
   "metadata": {},
   "outputs": [],
   "source": [
    "\n",
    "# Distribution of course ratings\n",
    "plt.figure(figsize=(10, 6))\n",
    "sns.histplot(data['Rating'], bins=20, kde=False)\n",
    "plt.title('Distribution of Course Ratings')\n",
    "plt.xlabel('Rating')\n",
    "plt.ylabel('Number of Courses')\n",
    "plt.show()\n"
   ]
  },
  {
   "cell_type": "code",
   "execution_count": null,
   "id": "c55a7b3e",
   "metadata": {},
   "outputs": [],
   "source": [
    "\n",
    "# Count of courses by level\n",
    "plt.figure(figsize=(10, 6))\n",
    "sns.countplot(x='Level', data=data, order=data['Level'].value_counts().index)\n",
    "plt.title('Count of Courses by Level')\n",
    "plt.xticks(rotation=45)\n",
    "plt.show()\n"
   ]
  },
  {
   "cell_type": "markdown",
   "id": "9efd16f3",
   "metadata": {},
   "source": [
    "\n",
    "## Further Analysis\n",
    "Dig deeper into the dataset to uncover insights on instructor influence, course descriptions, and skills offered.\n"
   ]
  },
  {
   "cell_type": "code",
   "execution_count": null,
   "id": "206d8715",
   "metadata": {},
   "outputs": [],
   "source": [
    "\n",
    "# Instructor Influence on Ratings\n",
    "instructor_ratings = data.groupby('Instructor')['Rating'].mean().sort_values(ascending=False).head(10)\n",
    "instructor_ratings\n"
   ]
  },
  {
   "cell_type": "code",
   "execution_count": null,
   "id": "55e7c688",
   "metadata": {},
   "outputs": [],
   "source": [
    "\n",
    "# Text Analysis on Course Descriptions\n",
    "vectorizer = CountVectorizer(stop_words='english', max_features=20)\n",
    "X = vectorizer.fit_transform(data['What you will learn'].dropna())\n",
    "words = vectorizer.get_feature_names_out()\n",
    "word_counts = np.asarray(X.sum(axis=0)).ravel().tolist()\n",
    "word_counts_df = pd.DataFrame({'word': words, 'count': word_counts}).sort_values('count', ascending=False)\n",
    "word_counts_df\n"
   ]
  },
  {
   "cell_type": "code",
   "execution_count": null,
   "id": "9d42c1ca",
   "metadata": {},
   "outputs": [],
   "source": [
    "\n",
    "# Detailed Skill Analysis\n",
    "skills_series = data['Skill gain'].str.split(', ')\n",
    "all_skills = [skill for sublist in skills_series.dropna() for skill in sublist]\n",
    "skill_counts = Counter(all_skills)\n",
    "most_common_skills = skill_counts.most_common(10)\n",
    "most_common_skills\n"
   ]
  }
 ],
 "metadata": {},
 "nbformat": 4,
 "nbformat_minor": 5
}
